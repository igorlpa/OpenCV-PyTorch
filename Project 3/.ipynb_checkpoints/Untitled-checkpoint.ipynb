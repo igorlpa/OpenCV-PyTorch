{
 "cells": [
  {
   "cell_type": "code",
   "execution_count": 3,
   "id": "3885e930-0f55-4b6e-b2a0-90cda1caf1d7",
   "metadata": {
    "tags": []
   },
   "outputs": [],
   "source": [
    "import pandas as pd"
   ]
  },
  {
   "cell_type": "code",
   "execution_count": 10,
   "id": "c26563f6-68d4-4d1f-9d02-0e40ae796915",
   "metadata": {
    "tags": []
   },
   "outputs": [],
   "source": [
    "df = pd.read_csv('Dataset\\\\validation\\\\Vehicle registration plate\\\\Label\\\\0c756c9366a8cb10.txt', header=None, sep=' ')"
   ]
  },
  {
   "cell_type": "code",
   "execution_count": 11,
   "id": "98315c56-3352-48d7-a148-2066b247a47f",
   "metadata": {
    "tags": []
   },
   "outputs": [
    {
     "data": {
      "text/html": [
       "<div>\n",
       "<style scoped>\n",
       "    .dataframe tbody tr th:only-of-type {\n",
       "        vertical-align: middle;\n",
       "    }\n",
       "\n",
       "    .dataframe tbody tr th {\n",
       "        vertical-align: top;\n",
       "    }\n",
       "\n",
       "    .dataframe thead th {\n",
       "        text-align: right;\n",
       "    }\n",
       "</style>\n",
       "<table border=\"1\" class=\"dataframe\">\n",
       "  <thead>\n",
       "    <tr style=\"text-align: right;\">\n",
       "      <th></th>\n",
       "      <th>0</th>\n",
       "      <th>1</th>\n",
       "      <th>2</th>\n",
       "      <th>3</th>\n",
       "      <th>4</th>\n",
       "      <th>5</th>\n",
       "      <th>6</th>\n",
       "    </tr>\n",
       "  </thead>\n",
       "  <tbody>\n",
       "    <tr>\n",
       "      <th>0</th>\n",
       "      <td>Vehicle</td>\n",
       "      <td>registration</td>\n",
       "      <td>plate</td>\n",
       "      <td>226.100224</td>\n",
       "      <td>382.659840</td>\n",
       "      <td>254.859264</td>\n",
       "      <td>394.049280</td>\n",
       "    </tr>\n",
       "    <tr>\n",
       "      <th>1</th>\n",
       "      <td>Vehicle</td>\n",
       "      <td>registration</td>\n",
       "      <td>plate</td>\n",
       "      <td>635.709440</td>\n",
       "      <td>580.257792</td>\n",
       "      <td>756.975616</td>\n",
       "      <td>638.397696</td>\n",
       "    </tr>\n",
       "  </tbody>\n",
       "</table>\n",
       "</div>"
      ],
      "text/plain": [
       "         0             1      2           3           4           5  \\\n",
       "0  Vehicle  registration  plate  226.100224  382.659840  254.859264   \n",
       "1  Vehicle  registration  plate  635.709440  580.257792  756.975616   \n",
       "\n",
       "            6  \n",
       "0  394.049280  \n",
       "1  638.397696  "
      ]
     },
     "execution_count": 11,
     "metadata": {},
     "output_type": "execute_result"
    }
   ],
   "source": [
    "df"
   ]
  },
  {
   "cell_type": "code",
   "execution_count": 17,
   "id": "08907ece-ffa5-4a5b-ae40-553088dd4dd6",
   "metadata": {
    "tags": []
   },
   "outputs": [
    {
     "data": {
      "text/plain": [
       "226.10022400000005"
      ]
     },
     "execution_count": 17,
     "metadata": {},
     "output_type": "execute_result"
    }
   ],
   "source": [
    "df.iloc[0][3]"
   ]
  },
  {
   "cell_type": "code",
   "execution_count": null,
   "id": "d79dcb7f-91e5-4f21-948d-d951d389252d",
   "metadata": {},
   "outputs": [],
   "source": [
    "for r in range(df.shape[0]):\n",
    "    "
   ]
  }
 ],
 "metadata": {
  "kernelspec": {
   "display_name": "Python 3 (ipykernel)",
   "language": "python",
   "name": "python3"
  },
  "language_info": {
   "codemirror_mode": {
    "name": "ipython",
    "version": 3
   },
   "file_extension": ".py",
   "mimetype": "text/x-python",
   "name": "python",
   "nbconvert_exporter": "python",
   "pygments_lexer": "ipython3",
   "version": "3.11.5"
  }
 },
 "nbformat": 4,
 "nbformat_minor": 5
}
