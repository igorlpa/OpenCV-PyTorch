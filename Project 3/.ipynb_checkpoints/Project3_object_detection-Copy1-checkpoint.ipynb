{
 "cells": [
  {
   "cell_type": "markdown",
   "metadata": {},
   "source": [
    "# <font style=\"color:purple\">Download the Dataset</font> \n",
    "\n",
    "**[Download the Vehicle registration plate](https://www.dropbox.com/s/k81ljpmzy3fgtx9/Dataset.zip?dl=1)**\n",
    "\n",
    "\n",
    "Download the Vehicle Registration Plate dataset from [here](https://www.dropbox.com/s/k81ljpmzy3fgtx9/Dataset.zip?dl=1) and unzip it. \n",
    "\n",
    "We will have the following directory structure:\n",
    "\n",
    "```\n",
    "Dataset\n",
    "├── train\n",
    "│   └── Vehicle registration plate\n",
    "│       └── Label\n",
    "└── validation\n",
    "    └── Vehicle registration plate\n",
    "        └── Label\n",
    "```\n",
    "\n",
    "Unzipping the file will give you a directory `Dataset`. This directory has two folder `train` and `validation`. Each train and validation folder has `Vehicle registration plate`  folder with `.jpg` images and a folder `Labels`.  `Labels` folder has bounding box data for the images.\n",
    "\n",
    "\n",
    "For example,\n",
    "For image: `Dataset/train/Vehicle registration plate/bf4689922cdfd532.jpg`\n",
    "Label file is  `Dataset/train/Vehicle registration plate/Label/bf4689922cdfd532.txt`\n",
    "\n",
    "There are one or more lines in each `.txt` file. Each line represents one bounding box.\n",
    "For example,\n",
    "```\n",
    "Vehicle registration plate 385.28 445.15 618.24 514.225\n",
    "Vehicle registration plate 839.68 266.066462 874.24 289.091462\n",
    "```\n",
    "\n",
    "We have a single class detection (`Vehicle registration plate detection`) problem. So bounding box details start from the fourth column in each row.\n",
    "\n",
    "Representation is in `xmin`, `ymin`, `xmax`, and `ymax` format.\n",
    "\n",
    "**It has `5308` training and `386` validation dataset.**\n",
    "\n",
    "Data is downloaded from [Open Images Dataset](https://storage.googleapis.com/openimages/web/index.html)"
   ]
  },
  {
   "cell_type": "code",
   "execution_count": 22,
   "metadata": {
    "tags": []
   },
   "outputs": [],
   "source": [
    "import os\n",
    "import torch\n",
    "import glob\n",
    "import cv2\n",
    "\n",
    "from torchvision.io import read_image\n",
    "from torchvision.ops.boxes import masks_to_boxes\n",
    "from torchvision import tv_tensors\n",
    "from torchvision.transforms.v2 import functional as F\n",
    "\n",
    "from torchvision import datasets, transforms\n",
    "\n",
    "import pandas as pd\n",
    "\n",
    "import matplotlib.pyplot as plt\n",
    "from torchvision.utils import draw_bounding_boxes, draw_segmentation_masks\n",
    "\n",
    "import albumentations as A\n",
    "from albumentations.pytorch import ToTensorV2\n",
    "\n",
    "\n",
    "os.environ['KMP_DUPLICATE_LIB_OK']='True'\n"
   ]
  },
  {
   "cell_type": "markdown",
   "metadata": {},
   "source": [
    "## Dataset"
   ]
  },
  {
   "cell_type": "code",
   "execution_count": 23,
   "metadata": {
    "tags": []
   },
   "outputs": [],
   "source": [
    "class PlateDataset(torch.utils.data.Dataset):\n",
    "    \n",
    "    def __init__(self, root, transforms = None, train:bool = True):\n",
    "        self.root = root\n",
    "        self.transforms = transforms\n",
    "        \n",
    "        if train:\n",
    "            self.images_dir = os.path.join(root,'train','Vehicle registration plate')\n",
    "        else:\n",
    "            self.images_dir = os.path.join(root,'validation','Vehicle registration plate')\n",
    "        self.labels_dir = os.path.join(self.images_dir, 'Label')        \n",
    "        \n",
    "        self.images = list(sorted(glob.glob(f'{self.images_dir}/*.jpg')))\n",
    "        self.labels = list(sorted(glob.glob(f'{self.labels_dir}/*.txt')))\n",
    "        \n",
    "        assert len(self.images) == len( self.labels), 'Images and Labels samples dont match' \n",
    "        \n",
    "        \n",
    "    def __getitem__(self, idx):\n",
    "        #image = read_image(self.images[idx])\n",
    "        image = cv2.imread(self.images[idx])\n",
    "        image = cv2.cvtColor(image, cv2.COLOR_BGR2RGB)\n",
    "        df = pd.read_csv(self.labels[idx], header=None, sep=' ')\n",
    "        \n",
    "        num_objs = df.shape[0]\n",
    "        #labels = torch.ones((num_objs,), dtype=torch.int64)\n",
    "        \n",
    "        #img = tv_tensors.Image(image)\n",
    "        img = image\n",
    "        \n",
    "        boxes = []\n",
    "        labels = []\n",
    "        areas = []\n",
    "        for r in range(df.shape[0]):\n",
    "            boxes.append([df.iloc[0][3], df.iloc[0][4], df.iloc[0][5], df.iloc[0][6]])\n",
    "            labels.append([1])\n",
    "            areas.append((boxes[r][3] - boxes[r][1]) * (boxes[r][2] - boxes[r][0]))\n",
    "                    \n",
    "        #boxes = df.iloc[:, 3:]        \n",
    "        #area = (boxes.iloc[:, 3] - boxes.iloc[:, 1]) * (boxes.iloc[:, 2] - boxes.iloc[:, 0])        \n",
    "        \n",
    "        target = {}\n",
    "        target[\"boxes\"] = boxes # tv_tensors.BoundingBoxes(boxes.values, format=\"XYXY\", canvas_size=F.get_size(F.to_tensor(img)))\n",
    "        target[\"labels\"] = labels\n",
    "        target[\"image_id\"] = idx\n",
    "        target[\"area\"] = areas # area.values\n",
    "        \n",
    "       \n",
    "        if self.transforms is not None:\n",
    "            #print('image', type(img), len(ll), ll)\n",
    "            transformed = self.transforms(image=img, bboxes=target[\"boxes\"], class_labels=class_labels)\n",
    "            img = transformed['image']\n",
    "            target[\"boxes\"] = transformed['bboxes']\n",
    "            \n",
    "        return img, target\n",
    "    \n",
    "    def __len__(self):\n",
    "        return len(self.images)\n"
   ]
  },
  {
   "cell_type": "code",
   "execution_count": 24,
   "metadata": {
    "tags": []
   },
   "outputs": [],
   "source": [
    "a = PlateDataset('Dataset', None, True)"
   ]
  },
  {
   "cell_type": "code",
   "execution_count": 25,
   "metadata": {
    "tags": []
   },
   "outputs": [],
   "source": [
    "aa, bb = a.__getitem__(0)"
   ]
  },
  {
   "cell_type": "code",
   "execution_count": 26,
   "metadata": {
    "tags": []
   },
   "outputs": [
    {
     "name": "stdout",
     "output_type": "stream",
     "text": [
      "<class 'str'> <class 'list'>\n",
      "boxes [[471.04, 602.667714, 513.28, 623.140672], [471.04, 602.667714, 513.28, 623.140672]] \n",
      "\n",
      "<class 'str'> <class 'list'>\n",
      "labels [[1], [1]] \n",
      "\n",
      "<class 'str'> <class 'int'>\n",
      "image_id 0 \n",
      "\n",
      "<class 'str'> <class 'list'>\n",
      "area [864.7777459199968, 864.7777459199968] \n",
      "\n"
     ]
    }
   ],
   "source": [
    "for key, value in bb.items():\n",
    "    print(type(key), type(value))\n",
    "    print(key, value, '\\n')    "
   ]
  },
  {
   "cell_type": "code",
   "execution_count": 27,
   "metadata": {
    "tags": []
   },
   "outputs": [
    {
     "data": {
      "text/plain": [
       "[864.7777459199968, 864.7777459199968]"
      ]
     },
     "execution_count": 27,
     "metadata": {},
     "output_type": "execute_result"
    }
   ],
   "source": [
    "bb['area']"
   ]
  },
  {
   "cell_type": "markdown",
   "metadata": {},
   "source": [
    "### Auxiliars"
   ]
  },
  {
   "cell_type": "code",
   "execution_count": 28,
   "metadata": {
    "tags": []
   },
   "outputs": [],
   "source": [
    "class_labels  = [1]"
   ]
  },
  {
   "cell_type": "code",
   "execution_count": 29,
   "metadata": {
    "tags": []
   },
   "outputs": [],
   "source": [
    "def image_preprocess_transforms():\n",
    "    transform = A.Compose([\n",
    "        A.LongestMaxSize(max_size=1024),\n",
    "        A.PadIfNeeded(),\n",
    "        #A.HorizontalFlip(p=0.5),\n",
    "        ToTensorV2()\n",
    "    ], bbox_params=A.BboxParams(format='pascal_voc', label_fields=['class_labels']))\n",
    "    \n",
    "    return transform"
   ]
  },
  {
   "cell_type": "code",
   "execution_count": 30,
   "metadata": {
    "tags": []
   },
   "outputs": [],
   "source": [
    "#def collate_fn(data):\n",
    "#    return tuple(zip(*data))"
   ]
  },
  {
   "cell_type": "code",
   "execution_count": 31,
   "metadata": {
    "tags": []
   },
   "outputs": [],
   "source": [
    "a = PlateDataset('Dataset', image_preprocess_transforms(), True)"
   ]
  },
  {
   "cell_type": "code",
   "execution_count": 32,
   "metadata": {
    "tags": []
   },
   "outputs": [
    {
     "ename": "AssertionError",
     "evalue": "",
     "output_type": "error",
     "traceback": [
      "\u001b[1;31m---------------------------------------------------------------------------\u001b[0m",
      "\u001b[1;31mAssertionError\u001b[0m                            Traceback (most recent call last)",
      "Cell \u001b[1;32mIn[32], line 2\u001b[0m\n\u001b[0;32m      1\u001b[0m \u001b[38;5;28;01mfor\u001b[39;00m i \u001b[38;5;129;01min\u001b[39;00m \u001b[38;5;28mrange\u001b[39m(\u001b[38;5;241m3\u001b[39m):\n\u001b[1;32m----> 2\u001b[0m     images, targets \u001b[38;5;241m=\u001b[39m a\u001b[38;5;241m.\u001b[39m\u001b[38;5;21m__getitem__\u001b[39m(i)\n\u001b[0;32m      3\u001b[0m     pred_boxes \u001b[38;5;241m=\u001b[39m targets[\u001b[38;5;124m\"\u001b[39m\u001b[38;5;124mboxes\u001b[39m\u001b[38;5;124m\"\u001b[39m]\u001b[38;5;241m.\u001b[39mlong()\n\u001b[0;32m      5\u001b[0m     output_image \u001b[38;5;241m=\u001b[39m draw_bounding_boxes(images, pred_boxes,  colors\u001b[38;5;241m=\u001b[39m\u001b[38;5;124m\"\u001b[39m\u001b[38;5;124mred\u001b[39m\u001b[38;5;124m\"\u001b[39m)    \n",
      "Cell \u001b[1;32mIn[23], line 51\u001b[0m, in \u001b[0;36mPlateDataset.__getitem__\u001b[1;34m(self, idx)\u001b[0m\n\u001b[0;32m     46\u001b[0m target[\u001b[38;5;124m\"\u001b[39m\u001b[38;5;124marea\u001b[39m\u001b[38;5;124m\"\u001b[39m] \u001b[38;5;241m=\u001b[39m areas \u001b[38;5;66;03m# area.values\u001b[39;00m\n\u001b[0;32m     49\u001b[0m \u001b[38;5;28;01mif\u001b[39;00m \u001b[38;5;28mself\u001b[39m\u001b[38;5;241m.\u001b[39mtransforms \u001b[38;5;129;01mis\u001b[39;00m \u001b[38;5;129;01mnot\u001b[39;00m \u001b[38;5;28;01mNone\u001b[39;00m:\n\u001b[0;32m     50\u001b[0m     \u001b[38;5;66;03m#print('image', type(img), len(ll), ll)\u001b[39;00m\n\u001b[1;32m---> 51\u001b[0m     transformed \u001b[38;5;241m=\u001b[39m \u001b[38;5;28mself\u001b[39m\u001b[38;5;241m.\u001b[39mtransforms(image\u001b[38;5;241m=\u001b[39mimg, bboxes\u001b[38;5;241m=\u001b[39mtarget[\u001b[38;5;124m\"\u001b[39m\u001b[38;5;124mboxes\u001b[39m\u001b[38;5;124m\"\u001b[39m], class_labels\u001b[38;5;241m=\u001b[39mclass_labels)\n\u001b[0;32m     52\u001b[0m     img \u001b[38;5;241m=\u001b[39m transformed[\u001b[38;5;124m'\u001b[39m\u001b[38;5;124mimage\u001b[39m\u001b[38;5;124m'\u001b[39m]\n\u001b[0;32m     53\u001b[0m     target[\u001b[38;5;124m\"\u001b[39m\u001b[38;5;124mboxes\u001b[39m\u001b[38;5;124m\"\u001b[39m] \u001b[38;5;241m=\u001b[39m transformed[\u001b[38;5;124m'\u001b[39m\u001b[38;5;124mbboxes\u001b[39m\u001b[38;5;124m'\u001b[39m]\n",
      "File \u001b[1;32m~\\anaconda3\\envs\\AIVI\\Lib\\site-packages\\albumentations\\core\\composition.py:207\u001b[0m, in \u001b[0;36mCompose.__call__\u001b[1;34m(self, force_apply, *args, **data)\u001b[0m\n\u001b[0;32m    202\u001b[0m check_each_transform \u001b[38;5;241m=\u001b[39m \u001b[38;5;28many\u001b[39m(\n\u001b[0;32m    203\u001b[0m     \u001b[38;5;28mgetattr\u001b[39m(item\u001b[38;5;241m.\u001b[39mparams, \u001b[38;5;124m\"\u001b[39m\u001b[38;5;124mcheck_each_transform\u001b[39m\u001b[38;5;124m\"\u001b[39m, \u001b[38;5;28;01mFalse\u001b[39;00m) \u001b[38;5;28;01mfor\u001b[39;00m item \u001b[38;5;129;01min\u001b[39;00m \u001b[38;5;28mself\u001b[39m\u001b[38;5;241m.\u001b[39mprocessors\u001b[38;5;241m.\u001b[39mvalues()\n\u001b[0;32m    204\u001b[0m )\n\u001b[0;32m    206\u001b[0m \u001b[38;5;28;01mfor\u001b[39;00m p \u001b[38;5;129;01min\u001b[39;00m \u001b[38;5;28mself\u001b[39m\u001b[38;5;241m.\u001b[39mprocessors\u001b[38;5;241m.\u001b[39mvalues():\n\u001b[1;32m--> 207\u001b[0m     p\u001b[38;5;241m.\u001b[39mpreprocess(data)\n\u001b[0;32m    209\u001b[0m \u001b[38;5;28;01mfor\u001b[39;00m idx, t \u001b[38;5;129;01min\u001b[39;00m \u001b[38;5;28menumerate\u001b[39m(transforms):\n\u001b[0;32m    210\u001b[0m     data \u001b[38;5;241m=\u001b[39m t(\u001b[38;5;241m*\u001b[39m\u001b[38;5;241m*\u001b[39mdata)\n",
      "File \u001b[1;32m~\\anaconda3\\envs\\AIVI\\Lib\\site-packages\\albumentations\\core\\utils.py:79\u001b[0m, in \u001b[0;36mDataProcessor.preprocess\u001b[1;34m(self, data)\u001b[0m\n\u001b[0;32m     78\u001b[0m \u001b[38;5;28;01mdef\u001b[39;00m \u001b[38;5;21mpreprocess\u001b[39m(\u001b[38;5;28mself\u001b[39m, data: Dict[\u001b[38;5;28mstr\u001b[39m, Any]) \u001b[38;5;241m-\u001b[39m\u001b[38;5;241m>\u001b[39m \u001b[38;5;28;01mNone\u001b[39;00m:\n\u001b[1;32m---> 79\u001b[0m     data \u001b[38;5;241m=\u001b[39m \u001b[38;5;28mself\u001b[39m\u001b[38;5;241m.\u001b[39madd_label_fields_to_data(data)\n\u001b[0;32m     81\u001b[0m     rows, cols \u001b[38;5;241m=\u001b[39m data[\u001b[38;5;124m\"\u001b[39m\u001b[38;5;124mimage\u001b[39m\u001b[38;5;124m\"\u001b[39m]\u001b[38;5;241m.\u001b[39mshape[:\u001b[38;5;241m2\u001b[39m]\n\u001b[0;32m     82\u001b[0m     \u001b[38;5;28;01mfor\u001b[39;00m data_name \u001b[38;5;129;01min\u001b[39;00m \u001b[38;5;28mself\u001b[39m\u001b[38;5;241m.\u001b[39mdata_fields:\n",
      "File \u001b[1;32m~\\anaconda3\\envs\\AIVI\\Lib\\site-packages\\albumentations\\core\\utils.py:118\u001b[0m, in \u001b[0;36mDataProcessor.add_label_fields_to_data\u001b[1;34m(self, data)\u001b[0m\n\u001b[0;32m    116\u001b[0m \u001b[38;5;28;01mfor\u001b[39;00m data_name \u001b[38;5;129;01min\u001b[39;00m \u001b[38;5;28mself\u001b[39m\u001b[38;5;241m.\u001b[39mdata_fields:\n\u001b[0;32m    117\u001b[0m     \u001b[38;5;28;01mfor\u001b[39;00m field \u001b[38;5;129;01min\u001b[39;00m \u001b[38;5;28mself\u001b[39m\u001b[38;5;241m.\u001b[39mparams\u001b[38;5;241m.\u001b[39mlabel_fields:\n\u001b[1;32m--> 118\u001b[0m         \u001b[38;5;28;01massert\u001b[39;00m \u001b[38;5;28mlen\u001b[39m(data[data_name]) \u001b[38;5;241m==\u001b[39m \u001b[38;5;28mlen\u001b[39m(data[field])\n\u001b[0;32m    119\u001b[0m         data_with_added_field \u001b[38;5;241m=\u001b[39m []\n\u001b[0;32m    120\u001b[0m         \u001b[38;5;28;01mfor\u001b[39;00m d, field_value \u001b[38;5;129;01min\u001b[39;00m \u001b[38;5;28mzip\u001b[39m(data[data_name], data[field]):\n",
      "\u001b[1;31mAssertionError\u001b[0m: "
     ]
    }
   ],
   "source": [
    "for i in range(3):\n",
    "    images, targets = a.__getitem__(i)\n",
    "    pred_boxes = targets[\"boxes\"].long()\n",
    "    \n",
    "    output_image = draw_bounding_boxes(images, pred_boxes,  colors=\"red\")    \n",
    "    \n",
    "    plt.figure(figsize=(12, 12))\n",
    "    plt.imshow(output_image.permute(1, 2, 0))\n",
    "\n",
    "    "
   ]
  },
  {
   "cell_type": "code",
   "execution_count": null,
   "metadata": {},
   "outputs": [],
   "source": []
  },
  {
   "cell_type": "code",
   "execution_count": null,
   "metadata": {},
   "outputs": [],
   "source": []
  },
  {
   "cell_type": "code",
   "execution_count": null,
   "metadata": {},
   "outputs": [],
   "source": []
  }
 ],
 "metadata": {
  "kernelspec": {
   "display_name": "aivi",
   "language": "python",
   "name": "aivi"
  },
  "language_info": {
   "codemirror_mode": {
    "name": "ipython",
    "version": 3
   },
   "file_extension": ".py",
   "mimetype": "text/x-python",
   "name": "python",
   "nbconvert_exporter": "python",
   "pygments_lexer": "ipython3",
   "version": "3.11.5"
  }
 },
 "nbformat": 4,
 "nbformat_minor": 4
}
